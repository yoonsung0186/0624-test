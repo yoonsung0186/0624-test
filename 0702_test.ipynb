{
  "nbformat": 4,
  "nbformat_minor": 0,
  "metadata": {
    "colab": {
      "provenance": [],
      "authorship_tag": "ABX9TyMVg8FY7uXoBa/H5q9IP+Ds",
      "include_colab_link": true
    },
    "kernelspec": {
      "name": "python3",
      "display_name": "Python 3"
    },
    "language_info": {
      "name": "python"
    }
  },
  "cells": [
    {
      "cell_type": "markdown",
      "metadata": {
        "id": "view-in-github",
        "colab_type": "text"
      },
      "source": [
        "<a href=\"https://colab.research.google.com/github/yoonsung0186/ChungnamAI/blob/main/0702_test.ipynb\" target=\"_parent\"><img src=\"https://colab.research.google.com/assets/colab-badge.svg\" alt=\"Open In Colab\"/></a>"
      ]
    },
    {
      "cell_type": "markdown",
      "source": [
        "1. flowchart\n",
        "https://claude.ai/public/artifacts/ecfa16b4-2106-4e7b-a637-a17f20eb3126"
      ],
      "metadata": {
        "id": "IWgMyqfgj682"
      }
    },
    {
      "cell_type": "code",
      "source": [
        "def init_sensors():\n",
        "    sensors = {\n",
        "        \"앞\": 15.0,\n",
        "        \"왼쪽\": 15.0,\n",
        "        \"오른쪽\": 15.0\n",
        "    }\n",
        "    print(\"센서 초기화:\", sensors)\n",
        "    return sensors\n",
        "if __name__ == \"__main__\":\n",
        "    sensor_data = init_sensors()\n"
      ],
      "metadata": {
        "colab": {
          "base_uri": "https://localhost:8080/"
        },
        "id": "GlIF3fP1j6t6",
        "outputId": "f4b3ab32-85e8-4823-95f2-5bd570f39765"
      },
      "execution_count": 13,
      "outputs": [
        {
          "output_type": "stream",
          "name": "stdout",
          "text": [
            "센서 초기화: {'앞': 15.0, '왼쪽': 15.0, '오른쪽': 15.0}\n"
          ]
        }
      ]
    },
    {
      "cell_type": "markdown",
      "source": [
        "2. flowchart\n",
        "https://claude.ai/public/artifacts/2bacfb57-fa54-46bf-bd52-f4d858b045a4"
      ],
      "metadata": {
        "id": "3gwqsuRjl5MK"
      }
    },
    {
      "cell_type": "code",
      "source": [
        "def scan_front(x, y, obstacles, sensors):\n",
        "  print(\"2-04 스캔 시작\")\n",
        "\n",
        "  if(x, y+1) in obstacles:\n",
        "    print(\"2-06 앞쪽 1칸 장애물 발견\")\n",
        "    sensors[\"앞\"] = 1.0\n",
        "\n",
        "  elif(x, y+2) in obstacles:\n",
        "    sensors[\"앞\"] = 2.0\n",
        "    print(\"2-10 앞쪽 2칸 장애물 발견\")\n",
        "\n",
        "  elif(x, y+3) in obstacles:\n",
        "    sensors[\"앞\"] = 3.0\n",
        "    print(\"2-13 앞쪽 3칸 장애물 발견\")\n",
        "\n",
        "  else:\n",
        "    sensors[\"앞\"] = 15.0\n",
        "    print(\"2-15 앞쪽 장애물 없음\")\n",
        "\n",
        "  print(\"2-16 앞쪽 스캔 완료\")\n"
      ],
      "metadata": {
        "id": "OL3E4r-yl-Ls"
      },
      "execution_count": 14,
      "outputs": []
    },
    {
      "cell_type": "markdown",
      "source": [
        "3. 왼쪽 스캔 함수\n",
        "https://claude.ai/public/artifacts/0bd88961-bc8c-43b4-b40b-aa0a27fe96df"
      ],
      "metadata": {
        "id": "riAuj2u4qaxV"
      }
    },
    {
      "cell_type": "code",
      "source": [
        "def scan_left(x, y, obstacles, sensors):\n",
        "  print(\"3-4 왼쪽 스캔 시작\")\n",
        "\n",
        "  if(x-1, y) in obstacles:\n",
        "    sensors[\"왼쪽\"] = 1.0\n",
        "    print(\"3-7 왼쪽 1칸 장애물 발견\")\n",
        "\n",
        "\n",
        "  elif(x-2, y) in obstacles:\n",
        "    sensors[\"왼쪽\"] = 2.0\n",
        "    print(\"3-10 왼쪽 2칸 장애물 발견\")\n",
        "\n",
        "  elif(x-3, y) in obstacles:\n",
        "    sensors[\"왼쪽\"] = 3.0\n",
        "    print(\"3-13 왼쪽 3칸 장애물 발견\")\n",
        "\n",
        "  else:\n",
        "    sensors[\"왼쪽\"] = 15.0\n",
        "    print(\"3-15 왼쪽 장애물 없음\")\n",
        "\n",
        "  print(\"44 왼쪽 스캔 완료\")"
      ],
      "metadata": {
        "id": "NsURzImaqcoA"
      },
      "execution_count": 15,
      "outputs": []
    },
    {
      "cell_type": "markdown",
      "source": [
        "5. 센서 데이터 업데이트 함수(디버그 print 포함)\n",
        "https://claude.ai/public/artifacts/0071fea5-0417-4ac3-b753-5e47ea108c2a"
      ],
      "metadata": {
        "id": "Hkd4ORlWrUtU"
      }
    },
    {
      "cell_type": "code",
      "source": [
        "# 센서 초기화 함수\n",
        "def init_sensors():\n",
        "    sensors = {\n",
        "        \"앞\": 15.0,\n",
        "        \"왼쪽\": 15.0,\n",
        "        \"오른쪽\": 15.0\n",
        "    }\n",
        "    print(\"센서 초기화 완료:\", sensors)\n",
        "    return sensors\n",
        "\n",
        "# 앞쪽 스캔 함수\n",
        "def scan_front(x, y, obstacles, sensors):\n",
        "  print(\"2-14 앞쪽 스캔 시작\")\n",
        "\n",
        "  if (x, y+1) in obstacles:\n",
        "    print(\"2-17 앞쪽 1칸 장애물 발견\")\n",
        "    sensors[\"앞\"] = 1.0\n",
        "\n",
        "  elif (x, y+2) in obstacles:\n",
        "    print(\"2-20 앞쪽 2칸 장애물 발견\")\n",
        "    sensors[\"앞\"] = 2.0\n",
        "\n",
        "  elif (x, y+3) in obstacles:\n",
        "    print(\"2-23 앞쪽 3칸 장애물 발견\")\n",
        "    sensors[\"앞\"] = 3.0\n",
        "\n",
        "  else:\n",
        "    print(\"2-26 앞쪽 장애물 없음\")\n",
        "    sensors[\"앞\"] = 15.0\n",
        "\n",
        "  print(\"2-29 앞쪽 스캔 완료\")\n",
        "\n",
        "# 왼쪽 스캔 함수\n",
        "def scan_left(x, y, obstacles, sensors):\n",
        "  print(\"3-4 왼쪽 스캔 시작\")\n",
        "\n",
        "  if(x-1, y) in obstacles:\n",
        "    sensors[\"왼쪽\"] = 1.0\n",
        "    print(\"3-7 왼쪽 1칸 장애물 발견\")\n",
        "\n",
        "\n",
        "  elif(x-2, y) in obstacles:\n",
        "    sensors[\"왼쪽\"] = 2.0\n",
        "    print(\"3-10 왼쪽 2칸 장애물 발견\")\n",
        "\n",
        "  elif(x-3, y) in obstacles:\n",
        "    sensors[\"왼쪽\"] = 3.0\n",
        "    print(\"3-13 왼쪽 3칸 장애물 발견\")\n",
        "\n",
        "  else:\n",
        "    sensors[\"왼쪽\"] = 15.0\n",
        "    print(\"3-15 왼쪽 장애물 없음\")\n",
        "\n",
        "  print(\"44 왼쪽 스캔 완료\")\n",
        "\n",
        "  # 오른쪽 스캔 함수 (직접 작성)\n",
        "def scan_right(x, y, obstacles, sensors):\n",
        "    print(\"4-54 오른쪽 스캔 시작\")\n",
        "\n",
        "    if (x + 1, y) in obstacles:\n",
        "        print(\"4-57 오른쪽 1칸 장애물 발견\")\n",
        "        sensors[\"오른쪽\"] = 1.0\n",
        "    elif (x + 2, y) in obstacles:\n",
        "        print(\"4-60 오른쪽 2칸 장애물 발견\")\n",
        "        sensors[\"오른쪽\"] = 2.0\n",
        "    elif (x + 3, y) in obstacles:\n",
        "        print(\"4-63 오른쪽 3칸 장애물 발견\")\n",
        "        sensors[\"오른쪽\"] = 3.0\n",
        "    else:\n",
        "        print(\"4-66 오른쪽 장애물 없음, 센서값 15.0 유지\")\n",
        "        sensors[\"오른쪽\"] = 15.0\n",
        "\n",
        "    print(\"4-69 오른쪽 스캔 완료\")\n",
        "\n",
        "# 센서 데이터 업데이트 함수\n",
        "def update_sensor_data(position, obstacles):\n",
        "  print(\"5-4 함수 시작\")\n",
        "\n",
        "  x, y = position\n",
        "  print(f\"5-6 위치 추출 완료 : x={x}, y={y}\")\n",
        "\n",
        "  sensors = init_sensors()\n",
        "  print(\"5-10 센서 초기화 완료\")\n",
        "\n",
        "  scan_front(x, y, obstacles, sensors)\n",
        "  scan_left(x, y, obstacles, sensors)\n",
        "  scan_right(x, y, obstacles, sensors)\n",
        "\n",
        "  print(\"5-17 센서 데이터 업데이트 완료\")\n",
        "  return sensors\n",
        "\n",
        "\n",
        "# 예시 실행 코드\n",
        "# 장애물 지도 정의\n",
        "obstacles = {\n",
        "    (2, 3),   # 앞쪽 1칸\n",
        "    (1, 2),   # 왼쪽 1칸\n",
        "    (4, 2),   # 오른쪽 2칸\n",
        "}\n",
        "\n",
        "# 로봇의 현재 위치\n",
        "position = (2, 2)\n",
        "\n",
        "# 센서 데이터 업데이트 실행\n",
        "sensors = update_sensor_data(position, obstacles)\n",
        "\n",
        "# 최종 결과 출력\n",
        "print(\"\\n🟢 최종 센서값:\", sensors)\n"
      ],
      "metadata": {
        "colab": {
          "base_uri": "https://localhost:8080/"
        },
        "id": "IBc40Y0ArWBA",
        "outputId": "6d5366ab-d658-4ff9-aeed-fb8b9777e5c0"
      },
      "execution_count": 22,
      "outputs": [
        {
          "output_type": "stream",
          "name": "stdout",
          "text": [
            "5-4 함수 시작\n",
            "5-6 위치 추출 완료 : x=2, y=2\n",
            "센서 초기화 완료: {'앞': 15.0, '왼쪽': 15.0, '오른쪽': 15.0}\n",
            "5-10 센서 초기화 완료\n",
            "2-14 앞쪽 스캔 시작\n",
            "2-17 앞쪽 1칸 장애물 발견\n",
            "2-29 앞쪽 스캔 완료\n",
            "3-4 왼쪽 스캔 시작\n",
            "3-7 왼쪽 1칸 장애물 발견\n",
            "44 왼쪽 스캔 완료\n",
            "4-54 오른쪽 스캔 시작\n",
            "4-60 오른쪽 2칸 장애물 발견\n",
            "4-69 오른쪽 스캔 완료\n",
            "5-17 센서 데이터 업데이트 완료\n",
            "\n",
            "🟢 최종 센서값: {'앞': 1.0, '왼쪽': 1.0, '오른쪽': 2.0}\n"
          ]
        }
      ]
    },
    {
      "cell_type": "markdown",
      "source": [
        "6. https://claude.ai/public/artifacts/27051f81-4a36-4075-8d2b-ec7199d9a7fb"
      ],
      "metadata": {
        "id": "X8WvYKKdwwhV"
      }
    },
    {
      "cell_type": "code",
      "source": [
        "def detect_obstacles(sensors, safe_distance):\n",
        "  print(\"6-4 함수 시작\")\n",
        "  print(\"6-5 센서 거리 정보 :\", sensors)\n",
        "\n",
        "  obstacles=[]\n",
        "\n",
        "  for direction, distance in sensors.items():\n",
        "    print(f\"6-9 [{direction}] 거리 = {distance}\")\n",
        "\n",
        "    if distance < safe_distance:\n",
        "      print(\"6-12 위험! 리스트에 추가\")\n",
        "      obstacles.append(direction)\n",
        "\n",
        "    else:\n",
        "      print(\"6-14 안전\")\n",
        "\n",
        "  return obstacles"
      ],
      "metadata": {
        "id": "1eOT6s-qwxuC"
      },
      "execution_count": 25,
      "outputs": []
    },
    {
      "cell_type": "markdown",
      "source": [
        "6번 실행 예시 코드"
      ],
      "metadata": {
        "id": "8paHkzERy_dE"
      }
    },
    {
      "cell_type": "code",
      "source": [
        "# 장애물 감지 함수\n",
        "def detect_obstacles(sensors, safe_distance):\n",
        "    print(\"6-4 함수 시작\")\n",
        "    print(\"6-5 센서 거리 정보 :\", sensors)\n",
        "\n",
        "    obstacles = []\n",
        "\n",
        "    for direction, distance in sensors.items():\n",
        "        print(f\"6-9 [{direction}] 거리 = {distance}\")\n",
        "\n",
        "        if distance < safe_distance:\n",
        "            print(\"6-12 위험! 리스트에 추가\")\n",
        "            obstacles.append(direction)\n",
        "        else:\n",
        "            print(\"6-14 안전\")\n",
        "\n",
        "    return obstacles\n",
        "\n",
        "\n",
        "# ✅ 예시 실행\n",
        "sensors = {\n",
        "    \"앞\": 2.0,\n",
        "    \"왼쪽\": 12.5,\n",
        "    \"오른쪽\": 7.0\n",
        "}\n",
        "\n",
        "safe_distance = 10.0\n",
        "\n",
        "print(\"\\n🟡 감지 시작 -----------------------------\")\n",
        "detected_obstacles = detect_obstacles(sensors, safe_distance)\n",
        "\n",
        "print(\"\\n🟥 최종 감지된 장애물 방향:\", detected_obstacles)\n"
      ],
      "metadata": {
        "colab": {
          "base_uri": "https://localhost:8080/"
        },
        "id": "4wP7cHT5zCpI",
        "outputId": "c5c7ad38-5ef8-4e8f-e5c0-b3656be4733e"
      },
      "execution_count": 26,
      "outputs": [
        {
          "output_type": "stream",
          "name": "stdout",
          "text": [
            "\n",
            "🟡 감지 시작 -----------------------------\n",
            "6-4 함수 시작\n",
            "6-5 센서 거리 정보 : {'앞': 2.0, '왼쪽': 12.5, '오른쪽': 7.0}\n",
            "6-9 [앞] 거리 = 2.0\n",
            "6-12 위험! 리스트에 추가\n",
            "6-9 [왼쪽] 거리 = 12.5\n",
            "6-14 안전\n",
            "6-9 [오른쪽] 거리 = 7.0\n",
            "6-12 위험! 리스트에 추가\n",
            "\n",
            "🟥 최종 감지된 장애물 방향: ['앞', '오른쪽']\n"
          ]
        }
      ]
    }
  ]
}