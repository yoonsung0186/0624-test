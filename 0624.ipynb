{
  "nbformat": 4,
  "nbformat_minor": 0,
  "metadata": {
    "colab": {
      "provenance": [],
      "authorship_tag": "ABX9TyPodE6P9mR2nPEIwYxPW//R",
      "include_colab_link": true
    },
    "kernelspec": {
      "name": "python3",
      "display_name": "Python 3"
    },
    "language_info": {
      "name": "python"
    }
  },
  "cells": [
    {
      "cell_type": "markdown",
      "metadata": {
        "id": "view-in-github",
        "colab_type": "text"
      },
      "source": [
        "<a href=\"https://colab.research.google.com/github/yoonsung0186/0624-test/blob/main/0624.ipynb\" target=\"_parent\"><img src=\"https://colab.research.google.com/assets/colab-badge.svg\" alt=\"Open In Colab\"/></a>"
      ]
    },
    {
      "cell_type": "code",
      "execution_count": 2,
      "metadata": {
        "id": "mWSM-ncSUvYb",
        "colab": {
          "base_uri": "https://localhost:8080/"
        },
        "outputId": "494eec9b-ffe4-4c9e-b484-17908efc06b4"
      },
      "outputs": [
        {
          "output_type": "stream",
          "name": "stdout",
          "text": [
            "합격\n"
          ]
        }
      ],
      "source": [
        "age = 19\n",
        "score = 85\n",
        "\n",
        "if age < 18:\n",
        "    print(\"미성년\")\n",
        "if age >= 18:\n",
        "\n",
        "  if score >= 80:\n",
        "    print(\"합격\")\n",
        "  else:\n",
        "    print(\"불합격\")\n"
      ]
    },
    {
      "cell_type": "code",
      "source": [
        "x=5\n",
        "y=\"John\"\n",
        "print(x)\n",
        "print(y)\n",
        "\n",
        "x=4\n",
        "x=\"Sally\"\n",
        "print(x)\n",
        "\n",
        "x=str(3)\n",
        "y=int(3)\n",
        "z=float(3)\n",
        "\n",
        "x=5\n",
        "y=\"John\"\n",
        "print(type(x))\n",
        "print(type(y))\n",
        "\n",
        "x=\"John\"\n",
        "# is the same as\n",
        "x='John'"
      ],
      "metadata": {
        "colab": {
          "base_uri": "https://localhost:8080/"
        },
        "id": "Cz9Y9O8b-GRx",
        "outputId": "3ae53f86-e9dd-4381-e202-f63ff888ce61"
      },
      "execution_count": 3,
      "outputs": [
        {
          "output_type": "stream",
          "name": "stdout",
          "text": [
            "5\n",
            "John\n",
            "Sally\n",
            "<class 'int'>\n",
            "<class 'str'>\n"
          ]
        }
      ]
    },
    {
      "cell_type": "code",
      "source": [
        "myvar=\"John\"\n",
        "my_yar=\"John\"\n",
        "_my_yar=\"John\"\n",
        "myVar=\"John\"\n",
        "MYYAR=\"John\"\n",
        "myvar2=\"John\"\n",
        "\n",
        "myVarialbleName=\"John\"\n",
        "my_variable_name=\"John\""
      ],
      "metadata": {
        "id": "crBKLCB1-NMN"
      },
      "execution_count": 4,
      "outputs": []
    },
    {
      "cell_type": "code",
      "source": [
        "x,y,z=\"Orange\",\"banana\",\"cherry\"\n",
        "print(x)\n",
        "print(y)\n",
        "print(z)\n",
        "\n",
        "# is the same as\n",
        "\n",
        "x=y=z=\"orange\"\n",
        "print(x)\n",
        "print(y)\n",
        "print(z)\n",
        "\n",
        "fruits=[\"apple\",\"banana\",\"cherry\"]\n",
        "x,y,z=fruits\n",
        "print(x)\n",
        "print(y)\n",
        "print(z)"
      ],
      "metadata": {
        "colab": {
          "base_uri": "https://localhost:8080/"
        },
        "id": "GcEgv82E-PZ9",
        "outputId": "578267c8-76d2-4bed-ac0f-a30ee8e15f1e"
      },
      "execution_count": 5,
      "outputs": [
        {
          "output_type": "stream",
          "name": "stdout",
          "text": [
            "Orange\n",
            "banana\n",
            "cherry\n",
            "orange\n",
            "orange\n",
            "orange\n",
            "apple\n",
            "banana\n",
            "cherry\n"
          ]
        }
      ]
    },
    {
      "cell_type": "code",
      "source": [
        "x=\"python is awesome\"\n",
        "print(x)\n",
        "\n",
        "x=\"Python\"\n",
        "y=\"is\"\n",
        "z=\"awesome\"\n",
        "print(x,y,z)\n",
        "\n",
        "x=\"python\"\n",
        "y=\"is\"\n",
        "z=\"awesome\"\n",
        "print(x+y+z)\n",
        "\n",
        "x=5\n",
        "y=10\n",
        "print(x+y)\n",
        "\n",
        "x=5\n",
        "y=\"John\"\n",
        "print(x,y)"
      ],
      "metadata": {
        "colab": {
          "base_uri": "https://localhost:8080/"
        },
        "id": "x8sd38vP-SOa",
        "outputId": "1b6301f0-7b88-47df-822c-023e3e6b8456"
      },
      "execution_count": 6,
      "outputs": [
        {
          "output_type": "stream",
          "name": "stdout",
          "text": [
            "python is awesome\n",
            "Python is awesome\n",
            "pythonisawesome\n",
            "15\n",
            "5 John\n"
          ]
        }
      ]
    },
    {
      "cell_type": "code",
      "source": [
        "x=\"awesome\"\n",
        "\n",
        "def myfunc():\n",
        "  print(\"Python is\"+x)\n",
        "\n",
        "myfunc()"
      ],
      "metadata": {
        "colab": {
          "base_uri": "https://localhost:8080/"
        },
        "id": "fT1J4DEv-UXp",
        "outputId": "b6b31ded-4891-4bed-b3a8-6f3844b142d9"
      },
      "execution_count": 7,
      "outputs": [
        {
          "output_type": "stream",
          "name": "stdout",
          "text": [
            "Python isawesome\n"
          ]
        }
      ]
    },
    {
      "cell_type": "code",
      "source": [
        "x=\"awesome\"\n",
        "\n",
        "def myfunc():\n",
        "  x=\"fantastic\"\n",
        "  print(\"Python is\"+x)\n",
        "\n",
        "myfunc()\n",
        "\n",
        "print(\"Python is\"+x)"
      ],
      "metadata": {
        "colab": {
          "base_uri": "https://localhost:8080/"
        },
        "id": "1sCS8vVy-Wda",
        "outputId": "a5ce8574-532c-4581-88f4-aa694b5e58aa"
      },
      "execution_count": 8,
      "outputs": [
        {
          "output_type": "stream",
          "name": "stdout",
          "text": [
            "Python isfantastic\n",
            "Python isawesome\n"
          ]
        }
      ]
    },
    {
      "cell_type": "code",
      "source": [
        "def myfunc():\n",
        "  global x\n",
        "  x=\"fantastic\"\n",
        "\n",
        "myfunc()\n",
        "\n",
        "print(\"Python is\"+x)"
      ],
      "metadata": {
        "colab": {
          "base_uri": "https://localhost:8080/"
        },
        "id": "OFGkR7i5-ZaT",
        "outputId": "c8bcde38-3621-4212-e478-f9431c8d852d"
      },
      "execution_count": 9,
      "outputs": [
        {
          "output_type": "stream",
          "name": "stdout",
          "text": [
            "Python isfantastic\n"
          ]
        }
      ]
    },
    {
      "cell_type": "code",
      "source": [
        "x=\"awesome\"\n",
        "\n",
        "def myfunc():\n",
        "  global x\n",
        "  x=\"fantastic\"\n",
        "\n",
        "myfunc()\n",
        "\n",
        "print(\"Python is\"+x)"
      ],
      "metadata": {
        "colab": {
          "base_uri": "https://localhost:8080/"
        },
        "id": "iy4aevyu-axM",
        "outputId": "636002ac-a927-4a44-9981-5434dc167e76"
      },
      "execution_count": 10,
      "outputs": [
        {
          "output_type": "stream",
          "name": "stdout",
          "text": [
            "Python isfantastic\n"
          ]
        }
      ]
    },
    {
      "cell_type": "code",
      "source": [
        "x=5\n",
        "print(type(x))\n",
        "\n",
        "x=str(\"Hello World\")\n",
        "\n",
        "x=int(20)\n",
        "\n",
        "x=float(20.5)\n",
        "\n",
        "x=complex(1j)"
      ],
      "metadata": {
        "colab": {
          "base_uri": "https://localhost:8080/"
        },
        "id": "GbxR-8BS-dNE",
        "outputId": "4ecfcb08-4fc6-4172-9cc1-41ebc13a4d1d"
      },
      "execution_count": 11,
      "outputs": [
        {
          "output_type": "stream",
          "name": "stdout",
          "text": [
            "<class 'int'>\n"
          ]
        }
      ]
    },
    {
      "cell_type": "code",
      "source": [
        "x=1\n",
        "y=2.8\n",
        "z=1j\n",
        "\n",
        "print(type(x))\n",
        "print(type(y))\n",
        "print(type(z))"
      ],
      "metadata": {
        "colab": {
          "base_uri": "https://localhost:8080/"
        },
        "id": "pOA9ZTWk-fUI",
        "outputId": "6030f319-1445-435d-8aae-341c1c1c11a5"
      },
      "execution_count": 12,
      "outputs": [
        {
          "output_type": "stream",
          "name": "stdout",
          "text": [
            "<class 'int'>\n",
            "<class 'float'>\n",
            "<class 'complex'>\n"
          ]
        }
      ]
    },
    {
      "cell_type": "code",
      "source": [
        "x=1\n",
        "y=564561531265878\n",
        "z=-4654651\n",
        "\n",
        "print(type(x))\n",
        "print(type(y))\n",
        "print(type(z))"
      ],
      "metadata": {
        "colab": {
          "base_uri": "https://localhost:8080/"
        },
        "id": "7SZuhMgT-ltR",
        "outputId": "220d7eb3-b8d1-45e3-fd0b-140744528c9e"
      },
      "execution_count": 13,
      "outputs": [
        {
          "output_type": "stream",
          "name": "stdout",
          "text": [
            "<class 'int'>\n",
            "<class 'int'>\n",
            "<class 'int'>\n"
          ]
        }
      ]
    },
    {
      "cell_type": "code",
      "source": [
        "x=1.10\n",
        "y=1.0\n",
        "z=-35.59\n",
        "\n",
        "print(type(x))\n",
        "print(type(y))\n",
        "print(type(z))"
      ],
      "metadata": {
        "colab": {
          "base_uri": "https://localhost:8080/"
        },
        "id": "Ml8xVLB3-nPm",
        "outputId": "b64e3aa8-6c17-4add-f52c-91bbcc778410"
      },
      "execution_count": 14,
      "outputs": [
        {
          "output_type": "stream",
          "name": "stdout",
          "text": [
            "<class 'float'>\n",
            "<class 'float'>\n",
            "<class 'float'>\n"
          ]
        }
      ]
    },
    {
      "cell_type": "code",
      "source": [
        "x=35e3\n",
        "y=12E4\n",
        "z=-87.7e100\n",
        "\n",
        "print(type(x))\n",
        "print(type(y))\n",
        "print(type(z))"
      ],
      "metadata": {
        "colab": {
          "base_uri": "https://localhost:8080/"
        },
        "id": "0_5Fgj_Z-oRQ",
        "outputId": "9273ef15-ec32-4c2d-b053-17dadd5ffc93"
      },
      "execution_count": 15,
      "outputs": [
        {
          "output_type": "stream",
          "name": "stdout",
          "text": [
            "<class 'float'>\n",
            "<class 'float'>\n",
            "<class 'float'>\n"
          ]
        }
      ]
    },
    {
      "cell_type": "code",
      "source": [
        "x=3+5j\n",
        "y=5j\n",
        "z=-5j\n",
        "\n",
        "print(type(x))\n",
        "print(type(y))\n",
        "print(type(z))"
      ],
      "metadata": {
        "colab": {
          "base_uri": "https://localhost:8080/"
        },
        "id": "RBhSYi3w-pnG",
        "outputId": "e7f7caaf-6d75-4d27-b748-6b6861f4a825"
      },
      "execution_count": 16,
      "outputs": [
        {
          "output_type": "stream",
          "name": "stdout",
          "text": [
            "<class 'complex'>\n",
            "<class 'complex'>\n",
            "<class 'complex'>\n"
          ]
        }
      ]
    },
    {
      "cell_type": "code",
      "source": [
        "x=1\n",
        "y=2.8\n",
        "z=1j\n",
        "\n",
        "a=float(x)\n",
        "\n",
        "b=int(y)\n",
        "\n",
        "c=complex(x)\n",
        "\n",
        "print(a)\n",
        "print(b)\n",
        "print(c)\n",
        "\n",
        "print(type(a))\n",
        "print(type(b))\n",
        "print(type(c))"
      ],
      "metadata": {
        "colab": {
          "base_uri": "https://localhost:8080/"
        },
        "id": "TY9BD3qH-rBK",
        "outputId": "3a8a06e4-e195-4738-b198-1a0673e332e7"
      },
      "execution_count": 17,
      "outputs": [
        {
          "output_type": "stream",
          "name": "stdout",
          "text": [
            "1.0\n",
            "2\n",
            "(1+0j)\n",
            "<class 'float'>\n",
            "<class 'int'>\n",
            "<class 'complex'>\n"
          ]
        }
      ]
    },
    {
      "cell_type": "code",
      "source": [
        "import random\n",
        "\n",
        "print(random.randrange(1,10))"
      ],
      "metadata": {
        "colab": {
          "base_uri": "https://localhost:8080/"
        },
        "id": "rYmBaZH9-sUT",
        "outputId": "9ef80955-a0c5-42a4-8526-d130938d1d98"
      },
      "execution_count": 18,
      "outputs": [
        {
          "output_type": "stream",
          "name": "stdout",
          "text": [
            "9\n"
          ]
        }
      ]
    },
    {
      "cell_type": "code",
      "source": [
        "x=int(1)\n",
        "y=int(2.8)\n",
        "z=int(\"3\")"
      ],
      "metadata": {
        "id": "kPS2CyGx-tmL"
      },
      "execution_count": 19,
      "outputs": []
    },
    {
      "cell_type": "code",
      "source": [
        "x=float(1)\n",
        "y=float(2.8)\n",
        "z=float(\"3\")\n",
        "w=float(\"4.2\")"
      ],
      "metadata": {
        "id": "ptSUMzAM-uso"
      },
      "execution_count": 20,
      "outputs": []
    },
    {
      "cell_type": "code",
      "source": [
        "man_count = 5\n",
        "\n",
        "high1 = 170\n",
        "high2 = 180\n",
        "high3 = 150\n",
        "high4 = 164\n",
        "high5 = 159\n",
        "\n",
        "sum = high1 + high2 + high3 + high4 + high5\n",
        "average = sum / man_count\n",
        "mean=sum/5\n",
        "\n",
        "if high1 >= 160:\n",
        "    print(\"1번 남자: 큰 키\")\n",
        "else:\n",
        "    print(\"1번 남자: 작은 키\")\n",
        "\n",
        "if high2 >= 160:\n",
        "    print(\"2번 남자: 큰 키\")\n",
        "else:\n",
        "    print(\"2번 남자: 작은 키\")\n",
        "\n",
        "print(\"5명 남자의 키의 합:\", sum)\n",
        "print(\"5명 남자의 키의 평균:\", average)\n",
        "\n",
        "# 다른 사람들의 코드\n",
        "\n",
        "print(\"키의 합계:\",sum)\n",
        "print(\"평균 키\",average)\n",
        "print(\"다섯 명의 평균키:\",mean)"
      ],
      "metadata": {
        "colab": {
          "base_uri": "https://localhost:8080/"
        },
        "id": "fDHxKgrH-vya",
        "outputId": "89775c96-b14f-49f1-dfcb-63837930f03c"
      },
      "execution_count": 21,
      "outputs": [
        {
          "output_type": "stream",
          "name": "stdout",
          "text": [
            "1번 남자: 큰 키\n",
            "2번 남자: 큰 키\n",
            "5명 남자의 키의 합: 823\n",
            "5명 남자의 키의 평균: 164.6\n",
            "키의 합계: 823\n",
            "평균 키 164.6\n",
            "다섯 명의 평균키: 164.6\n"
          ]
        }
      ]
    },
    {
      "cell_type": "code",
      "source": [
        "# 카메라로 인식한 신호등 색상\n",
        "traffic_light = \"red\"\n",
        "\n",
        "if traffic_light == \"red\":\n",
        "    print(\"빨간불 → 정지\")\n",
        "\n",
        "if traffic_light == \"yellow\":\n",
        "    print(\"노란불 → 감속 준비\")\n",
        "\n",
        "if traffic_light == \"green\":\n",
        "    print(\"초록불 → 출발\")"
      ],
      "metadata": {
        "colab": {
          "base_uri": "https://localhost:8080/"
        },
        "id": "ZBdfr6vv-x9Z",
        "outputId": "cbca12ab-2a58-4104-85e9-a18c2db6bca2"
      },
      "execution_count": 22,
      "outputs": [
        {
          "output_type": "stream",
          "name": "stdout",
          "text": [
            "빨간불 → 정지\n"
          ]
        }
      ]
    },
    {
      "cell_type": "code",
      "source": [
        "# 차선 중앙 기준 차량 위치 (단위: m, 0이면 중앙)\n",
        "lane_position = 0.8  # +면 오른쪽 치우침, -면 왼쪽\n",
        "\n",
        "if lane_position > 0.5:\n",
        "    print(\"차량이 오른쪽으로 치우침 → 왼쪽으로 조향 보정\")\n",
        "\n",
        "if lane_position < -0.5:\n",
        "    print(\"차량이 왼쪽으로 치우침 → 오른쪽으로 조향 보정\")\n",
        "\n",
        "if -0.5 <= lane_position <= 0.5:\n",
        "    print(\"차선 중앙 유지 중 → 유지\")"
      ],
      "metadata": {
        "colab": {
          "base_uri": "https://localhost:8080/"
        },
        "id": "AIGiX3O6-zoM",
        "outputId": "b109888d-aaba-49f5-9960-3104789b1107"
      },
      "execution_count": 23,
      "outputs": [
        {
          "output_type": "stream",
          "name": "stdout",
          "text": [
            "차량이 오른쪽으로 치우침 → 왼쪽으로 조향 보정\n"
          ]
        }
      ]
    },
    {
      "cell_type": "code",
      "source": [
        "# 앞에 장애물까지의 거리 (단위: 미터)\n",
        "distance_to_obstacle = 5\n",
        "\n",
        "# 현재 차량 속도 (단위: km/h)\n",
        "speed = 40\n",
        "\n",
        "# 긴급 정지 거리 기준 (단위: 미터)\n",
        "brake_threshold = 10\n",
        "\n",
        "if distance_to_obstacle < brake_threshold:\n",
        "    print(\"장애물과 너무 가까움! → 긴급 제동\")\n",
        "\n",
        "if distance_to_obstacle >= brake_threshold:\n",
        "    print(\"안전 거리 유지 중 → 계속 주행\")"
      ],
      "metadata": {
        "colab": {
          "base_uri": "https://localhost:8080/"
        },
        "id": "MLKc9y9b-4FZ",
        "outputId": "eea54f4c-fa4f-4339-c0d6-461dc0ed1297"
      },
      "execution_count": 24,
      "outputs": [
        {
          "output_type": "stream",
          "name": "stdout",
          "text": [
            "장애물과 너무 가까움! → 긴급 제동\n"
          ]
        }
      ]
    },
    {
      "cell_type": "code",
      "source": [
        "# 현재 날씨\n",
        "weather = \"rain\"\n",
        "\n",
        "if weather == \"rain\":\n",
        "    print(\"비 오는 중 → 라이다 센서 감도 높임\")\n",
        "\n",
        "if weather == \"fog\":\n",
        "    print(\"안개 낌 → 레이더 센서 우선 사용\")\n",
        "\n",
        "if weather == \"clear\":\n",
        "    print(\"맑음 → 모든 센서 정상 동작\")"
      ],
      "metadata": {
        "colab": {
          "base_uri": "https://localhost:8080/"
        },
        "id": "lXAXKYS0-5OJ",
        "outputId": "d42f4071-8713-4a79-af87-aa0265515a46"
      },
      "execution_count": 25,
      "outputs": [
        {
          "output_type": "stream",
          "name": "stdout",
          "text": [
            "비 오는 중 → 라이다 센서 감도 높임\n"
          ]
        }
      ]
    },
    {
      "cell_type": "code",
      "source": [
        "# 센서로 보행자 감지 여부\n",
        "pedestrian_detected = True\n",
        "\n",
        "# 차량 속도 (단위: km/h)\n",
        "speed = 30\n",
        "\n",
        "if pedestrian_detected:\n",
        "    print(\"보행자 감지됨 → 차량 정지\")\n",
        "\n",
        "if not pedestrian_detected:\n",
        "    print(\"보행자 없음 → 계속 주행\")"
      ],
      "metadata": {
        "colab": {
          "base_uri": "https://localhost:8080/"
        },
        "id": "9pNzH0Vl-6eR",
        "outputId": "be81613f-b17d-4d98-e9da-af7c68cec143"
      },
      "execution_count": 26,
      "outputs": [
        {
          "output_type": "stream",
          "name": "stdout",
          "text": [
            "보행자 감지됨 → 차량 정지\n"
          ]
        }
      ]
    }
  ]
}