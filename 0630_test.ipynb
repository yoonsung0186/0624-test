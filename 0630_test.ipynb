{
  "nbformat": 4,
  "nbformat_minor": 0,
  "metadata": {
    "colab": {
      "provenance": [],
      "authorship_tag": "ABX9TyO7lRPX9FGC60egjGeLLHRM",
      "include_colab_link": true
    },
    "kernelspec": {
      "name": "python3",
      "display_name": "Python 3"
    },
    "language_info": {
      "name": "python"
    }
  },
  "cells": [
    {
      "cell_type": "markdown",
      "metadata": {
        "id": "view-in-github",
        "colab_type": "text"
      },
      "source": [
        "<a href=\"https://colab.research.google.com/github/yoonsung0186/ChungnamAI/blob/main/0630_test.ipynb\" target=\"_parent\"><img src=\"https://colab.research.google.com/assets/colab-badge.svg\" alt=\"Open In Colab\"/></a>"
      ]
    },
    {
      "cell_type": "markdown",
      "source": [
        "1. https://claude.ai/public/artifacts/4a4b8c6f-b910-4886-848a-df0a972fcec4"
      ],
      "metadata": {
        "id": "cF-ns2z_P7no"
      }
    },
    {
      "cell_type": "code",
      "source": [
        "sensor_data ={\n",
        "    \"앞\":8.0,\n",
        "    \"왼쪽\":16.0,\n",
        "    \"오른쪽\":4.0\n",
        "}\n",
        "safe_distance=10.0\n",
        "obstacles=[]\n",
        "for direction, distance in sensor_data.items():\n",
        "  if distance < safe_distance:\n",
        "    obstacles.append(direction)\n",
        "print(\"장애물 방향:\", obstacles)"
      ],
      "metadata": {
        "colab": {
          "base_uri": "https://localhost:8080/"
        },
        "id": "p9mpQe9TP_KA",
        "outputId": "a1a30e42-96ed-4feb-8884-36bfe05c818c"
      },
      "execution_count": null,
      "outputs": [
        {
          "output_type": "stream",
          "name": "stdout",
          "text": [
            "장애물 방향: ['앞', '오른쪽']\n"
          ]
        }
      ]
    },
    {
      "cell_type": "markdown",
      "source": [
        "2. https://claude.ai/public/artifacts/4a4b8c6f-b910-4886-848a-df0a972fcec4"
      ],
      "metadata": {
        "id": "zQxydXDYRJ-b"
      }
    },
    {
      "cell_type": "code",
      "source": [
        "sensor_data ={\n",
        "    \"앞\":8.0,\n",
        "    \"왼쪽\":16.0,\n",
        "    \"오른쪽\":4.0\n",
        "}\n",
        "safe_distance=10.0\n",
        "obstacles=[]\n",
        "for direction, distance in sensor_data.items():\n",
        "  if distance<safe_distance:\n",
        "    obstacles.append(direction)\n",
        "\n",
        "avoid_direction=None\n",
        "\n",
        "if \"앞\" in obstacles:\n",
        "  if \"왼쪽\" not in obstacles:\n",
        "    avoid_direction=\"왼쪽\"\n",
        "  elif \"오른쪽\" not in obstacles:\n",
        "    avoid_direction=\"오른쪽\"\n",
        "  else:\n",
        "    avoid_direction=\"정지\"\n",
        "else:\n",
        "  avoid_direction=\"직진\"\n",
        "\n",
        "print(\"장애물 방향:\", obstacles)\n",
        "print(\"회피 방향:\", avoid_direction)"
      ],
      "metadata": {
        "colab": {
          "base_uri": "https://localhost:8080/"
        },
        "id": "EULOeWC-RK4U",
        "outputId": "43b69a14-c863-4e78-9c8c-4e01ac73fa3b"
      },
      "execution_count": null,
      "outputs": [
        {
          "output_type": "stream",
          "name": "stdout",
          "text": [
            "장애물 방향: ['앞', '오른쪽']\n",
            "회피 방향: 왼쪽\n"
          ]
        }
      ]
    },
    {
      "cell_type": "markdown",
      "source": [
        "3. https://claude.ai/public/artifacts/a8b14a09-9af9-4d88-9623-e1128c72d5a1"
      ],
      "metadata": {
        "id": "6glgu7mOTGvi"
      }
    },
    {
      "cell_type": "code",
      "source": [
        "class AutonomousCar:\n",
        "    def __init__(self):\n",
        "        self.name = None\n",
        "        self.position = (0, 0)\n",
        "        self.sensor_range = 5\n",
        "        self.obstacles = {}\n",
        "        self.step = 0\n",
        "        self.front = 0\n",
        "\n",
        "    def create_car(self, name, position, sensor_range):\n",
        "        self.name = name\n",
        "        self.position = position\n",
        "        self.sensor_range = sensor_range\n",
        "        print(f\"자동차 이름 : {name}\")\n",
        "        print(f\"자동차 시작 위치 : {position}\")\n",
        "        print(f\"자동차 센서 범위 : {sensor_range}\")\n",
        "\n",
        "    def set_obstacles(self, obstacle_dict):\n",
        "        self.obstacles = obstacle_dict\n",
        "        print(f\"장애물 위치 설정 완료 : {obstacle_dict}\")\n",
        "\n",
        "    def scan_environment(self):\n",
        "        x, y = self.position\n",
        "        front_position = (x + 1, y)\n",
        "        print(f\"현재 위치 : {self.position}, 스캔 위치 : {front_position}\")\n",
        "\n",
        "        if front_position in self.obstacles:\n",
        "            self.front = 1\n",
        "            print(\"장애물 감지\")\n",
        "        else:\n",
        "            self.front = 0\n",
        "            print(\"장애물 없음\")\n",
        "\n",
        "    def auto_drive(self):\n",
        "        print(\"\\n자율주행 로직 시작\")\n",
        "        self.scan_environment()\n",
        "\n",
        "        if self.front == 1:\n",
        "            print(\"우회전\")\n",
        "            self.turn_right()\n",
        "        else:\n",
        "            print(\"직진\")\n",
        "            self.move_forward()\n",
        "\n",
        "        print(f\"현재 위치 : {self.position}\")\n",
        "        self.step += 1\n",
        "        print(f\"step : {self.step}\")\n",
        "\n",
        "    def turn_right(self):\n",
        "        x, y = self.position\n",
        "        self.position = (x + 1, y)\n",
        "        print(\"우회전\")\n",
        "\n",
        "    def move_forward(self):\n",
        "        x, y = self.position\n",
        "        self.position = (x, y + 1)\n",
        "        print(\"직진\")\n",
        "\n",
        "\n",
        "\n",
        "car = AutonomousCar()\n",
        "car.create_car(\"yoonsung\", (0, 0), 5)\n",
        "car.set_obstacles({\n",
        "    (1, 0): \"벽\",\n",
        "    (2, 1): \"기둥\"\n",
        "})\n",
        "\n",
        "while car.step <= 5:\n",
        "    car.auto_drive()\n",
        "\n",
        "print(\"실행 완료\")\n"
      ],
      "metadata": {
        "id": "MStR0_GTTIf5",
        "colab": {
          "base_uri": "https://localhost:8080/"
        },
        "outputId": "3129000d-0d25-4b14-9e8d-5090795418fe"
      },
      "execution_count": 12,
      "outputs": [
        {
          "output_type": "stream",
          "name": "stdout",
          "text": [
            "자동차 이름 : yoonsung\n",
            "자동차 시작 위치 : (0, 0)\n",
            "자동차 센서 범위 : 5\n",
            "장애물 위치 설정 완료 : {(1, 0): '벽', (2, 1): '기둥'}\n",
            "\n",
            "자율주행 로직 시작\n",
            "현재 위치 : (0, 0), 스캔 위치 : (1, 0)\n",
            "장애물 감지\n",
            "우회전\n",
            "우회전\n",
            "현재 위치 : (1, 0)\n",
            "step : 1\n",
            "\n",
            "자율주행 로직 시작\n",
            "현재 위치 : (1, 0), 스캔 위치 : (2, 0)\n",
            "장애물 없음\n",
            "직진\n",
            "직진\n",
            "현재 위치 : (1, 1)\n",
            "step : 2\n",
            "\n",
            "자율주행 로직 시작\n",
            "현재 위치 : (1, 1), 스캔 위치 : (2, 1)\n",
            "장애물 감지\n",
            "우회전\n",
            "우회전\n",
            "현재 위치 : (2, 1)\n",
            "step : 3\n",
            "\n",
            "자율주행 로직 시작\n",
            "현재 위치 : (2, 1), 스캔 위치 : (3, 1)\n",
            "장애물 없음\n",
            "직진\n",
            "직진\n",
            "현재 위치 : (2, 2)\n",
            "step : 4\n",
            "\n",
            "자율주행 로직 시작\n",
            "현재 위치 : (2, 2), 스캔 위치 : (3, 2)\n",
            "장애물 없음\n",
            "직진\n",
            "직진\n",
            "현재 위치 : (2, 3)\n",
            "step : 5\n",
            "\n",
            "자율주행 로직 시작\n",
            "현재 위치 : (2, 3), 스캔 위치 : (3, 3)\n",
            "장애물 없음\n",
            "직진\n",
            "직진\n",
            "현재 위치 : (2, 4)\n",
            "step : 6\n",
            "실행 완료\n"
          ]
        }
      ]
    }
  ]
}