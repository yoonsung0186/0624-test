{
  "nbformat": 4,
  "nbformat_minor": 0,
  "metadata": {
    "colab": {
      "provenance": [],
      "authorship_tag": "ABX9TyOobKGMVO4ai+sj6YVurxDL",
      "include_colab_link": true
    },
    "kernelspec": {
      "name": "python3",
      "display_name": "Python 3"
    },
    "language_info": {
      "name": "python"
    }
  },
  "cells": [
    {
      "cell_type": "markdown",
      "metadata": {
        "id": "view-in-github",
        "colab_type": "text"
      },
      "source": [
        "<a href=\"https://colab.research.google.com/github/yoonsung0186/0624-test/blob/main/0625_AutoDrivingTest.ipynb\" target=\"_parent\"><img src=\"https://colab.research.google.com/assets/colab-badge.svg\" alt=\"Open In Colab\"/></a>"
      ]
    },
    {
      "cell_type": "markdown",
      "source": [
        "1. while 루프문"
      ],
      "metadata": {
        "id": "TVgDBX9C_GIE"
      }
    },
    {
      "cell_type": "code",
      "source": [
        "i = 1\n",
        "while i < 6:\n",
        "  print(i)\n",
        "  i += 1"
      ],
      "metadata": {
        "colab": {
          "base_uri": "https://localhost:8080/"
        },
        "id": "ZIZo7sAH_LMm",
        "outputId": "39613495-279f-4a83-9746-2b75ad95f036"
      },
      "execution_count": 2,
      "outputs": [
        {
          "output_type": "stream",
          "name": "stdout",
          "text": [
            "1\n",
            "2\n",
            "3\n",
            "4\n",
            "5\n"
          ]
        }
      ]
    },
    {
      "cell_type": "markdown",
      "source": [
        "2. while문에서 break"
      ],
      "metadata": {
        "id": "pimIAXVb_ORq"
      }
    },
    {
      "cell_type": "code",
      "source": [
        "i = 1\n",
        "while i < 6:\n",
        "  print(i)\n",
        "  if i == 3:\n",
        "    break\n",
        "  i += 1"
      ],
      "metadata": {
        "colab": {
          "base_uri": "https://localhost:8080/"
        },
        "id": "FrOypgMq_Ubz",
        "outputId": "5883049c-93f6-4ec7-95eb-6134fa2988c3"
      },
      "execution_count": 3,
      "outputs": [
        {
          "output_type": "stream",
          "name": "stdout",
          "text": [
            "1\n",
            "2\n",
            "3\n"
          ]
        }
      ]
    },
    {
      "cell_type": "markdown",
      "source": [
        "3. while문에서 contunue"
      ],
      "metadata": {
        "id": "3KI7F1ou_Wba"
      }
    },
    {
      "cell_type": "code",
      "source": [
        "i = 0\n",
        "while i < 6:\n",
        "  i += 1\n",
        "  if i == 3:\n",
        "    continue\n",
        "  print(i)"
      ],
      "metadata": {
        "colab": {
          "base_uri": "https://localhost:8080/"
        },
        "id": "ikzWwLM2_Xcv",
        "outputId": "583431eb-d329-4bdd-8ddc-92b3ed441efe"
      },
      "execution_count": 4,
      "outputs": [
        {
          "output_type": "stream",
          "name": "stdout",
          "text": [
            "1\n",
            "2\n",
            "4\n",
            "5\n",
            "6\n"
          ]
        }
      ]
    },
    {
      "cell_type": "markdown",
      "source": [
        "4. while문에서 else"
      ],
      "metadata": {
        "id": "vYW3jEoN_aRB"
      }
    },
    {
      "cell_type": "code",
      "source": [
        "i = 1\n",
        "while i < 6:\n",
        "  print(i)\n",
        "  i += 1\n",
        "else:\n",
        "  print(\"i is no longer less than 6\")"
      ],
      "metadata": {
        "colab": {
          "base_uri": "https://localhost:8080/"
        },
        "id": "inodyp-D_dsy",
        "outputId": "19723789-b450-4f15-a83e-5796ac933eaa"
      },
      "execution_count": 5,
      "outputs": [
        {
          "output_type": "stream",
          "name": "stdout",
          "text": [
            "1\n",
            "2\n",
            "3\n",
            "4\n",
            "5\n",
            "i is no longer less than 6\n"
          ]
        }
      ]
    },
    {
      "cell_type": "markdown",
      "source": [
        "5. 자율주행관련 while문(장애물 감지)"
      ],
      "metadata": {
        "id": "mBRdoF8d_fcU"
      }
    },
    {
      "cell_type": "code",
      "source": [
        "obstacle_detected = False\n",
        "distance = 100\n",
        "\n",
        "while distance > 30:\n",
        "    print(f\"현재 거리: {distance}cm → 계속 주행\")\n",
        "    distance -= 10\n",
        "\n",
        "print(\"장애물 감지! 정지합니다.\")"
      ],
      "metadata": {
        "colab": {
          "base_uri": "https://localhost:8080/"
        },
        "id": "V8iOW99M_gni",
        "outputId": "cc3ab29c-60d7-4c79-bb7c-d5d0f467e84a"
      },
      "execution_count": 6,
      "outputs": [
        {
          "output_type": "stream",
          "name": "stdout",
          "text": [
            "현재 거리: 100cm → 계속 주행\n",
            "현재 거리: 90cm → 계속 주행\n",
            "현재 거리: 80cm → 계속 주행\n",
            "현재 거리: 70cm → 계속 주행\n",
            "현재 거리: 60cm → 계속 주행\n",
            "현재 거리: 50cm → 계속 주행\n",
            "현재 거리: 40cm → 계속 주행\n",
            "장애물 감지! 정지합니다.\n"
          ]
        }
      ]
    },
    {
      "cell_type": "markdown",
      "source": [
        "6. 자율주행관련 while문(신호등 감지)"
      ],
      "metadata": {
        "id": "Vv-XwVVS_jgm"
      }
    },
    {
      "cell_type": "code",
      "source": [
        "traffic_light = \"빨간불\"\n",
        "\n",
        "while traffic_light == \"빨간불\":\n",
        "    print(\"빨간불 → 정지 중...\")\n",
        "    # 신호 변경 시뮬레이션\n",
        "    traffic_light = \"초록불\"\n",
        "\n",
        "print(\"초록불 → 출발!\")"
      ],
      "metadata": {
        "colab": {
          "base_uri": "https://localhost:8080/"
        },
        "id": "Ncc6kSAe_kzu",
        "outputId": "f21fdf2f-6b5e-4445-82c8-ecf9b57c09e0"
      },
      "execution_count": 7,
      "outputs": [
        {
          "output_type": "stream",
          "name": "stdout",
          "text": [
            "빨간불 → 정지 중...\n",
            "초록불 → 출발!\n"
          ]
        }
      ]
    },
    {
      "cell_type": "markdown",
      "source": [
        "7. 자율주행관련 while문(일정 속도 도달)"
      ],
      "metadata": {
        "id": "3E0QrzMZ_m9v"
      }
    },
    {
      "cell_type": "code",
      "source": [
        "speed = 0\n",
        "\n",
        "while speed < 60:\n",
        "    speed += 10\n",
        "    print(f\"가속 중... 현재 속도: {speed} km/h\")\n",
        "\n",
        "print(\"목표 속도 도달. 속도 유지 또는 정지 준비.\")"
      ],
      "metadata": {
        "colab": {
          "base_uri": "https://localhost:8080/"
        },
        "id": "M0lmjN_y_nny",
        "outputId": "4a45a78d-4483-4110-972c-b5cdf917b5e1"
      },
      "execution_count": 1,
      "outputs": [
        {
          "output_type": "stream",
          "name": "stdout",
          "text": [
            "가속 중... 현재 속도: 10 km/h\n",
            "가속 중... 현재 속도: 20 km/h\n",
            "가속 중... 현재 속도: 30 km/h\n",
            "가속 중... 현재 속도: 40 km/h\n",
            "가속 중... 현재 속도: 50 km/h\n",
            "가속 중... 현재 속도: 60 km/h\n",
            "목표 속도 도달. 속도 유지 또는 정지 준비.\n"
          ]
        }
      ]
    },
    {
      "cell_type": "markdown",
      "source": [
        "8. 자율주행관련 while문(차선 이탈 감지)"
      ],
      "metadata": {
        "id": "Voh9f4r-_r4M"
      }
    },
    {
      "cell_type": "code",
      "source": [
        "lane_position = \"왼쪽\"\n",
        "\n",
        "while lane_position != \"중앙\":\n",
        "    print(f\"차선 이탈 감지: {lane_position} → 조향 보정 중...\")\n",
        "    lane_position = \"중앙\"  # 보정 완료 후 중앙 복귀\n",
        "\n",
        "print(\"차선 중앙 유지 중.\")"
      ],
      "metadata": {
        "colab": {
          "base_uri": "https://localhost:8080/"
        },
        "id": "CqIT743Z_suQ",
        "outputId": "831f6676-6327-479e-cb97-ef1874c019ef"
      },
      "execution_count": 8,
      "outputs": [
        {
          "output_type": "stream",
          "name": "stdout",
          "text": [
            "차선 이탈 감지: 왼쪽 → 조향 보정 중...\n",
            "차선 중앙 유지 중.\n"
          ]
        }
      ]
    },
    {
      "cell_type": "markdown",
      "source": [
        "9. 자율주행관련 while문(도로 표지판 감지)"
      ],
      "metadata": {
        "id": "jp-3BGAV_ut-"
      }
    },
    {
      "cell_type": "code",
      "source": [
        "signs = [\"속도제한 30\", \"정지\", \"우회전\", \"속도제한 50\"]\n",
        "index = 0\n",
        "\n",
        "while index < len(signs):\n",
        "    sign = signs[index]\n",
        "\n",
        "    if \"속도제한\" in sign:\n",
        "        speed_limit = int(sign.split()[-1])\n",
        "        print(f\"도로 표지판: {sign} → 속도 {speed_limit}km/h로 조절\")\n",
        "    elif sign == \"정지\":\n",
        "        print(\"도로 표지판: 정지 → 차량 정지\")\n",
        "    elif sign == \"우회전\":\n",
        "        print(\"도로 표지판: 우회전 → 우회전 수행\")\n",
        "    else:\n",
        "        print(f\"알 수 없는 표지판: {sign}\")\n",
        "\n",
        "    index += 1"
      ],
      "metadata": {
        "colab": {
          "base_uri": "https://localhost:8080/"
        },
        "id": "p48h0Z85_wHN",
        "outputId": "ca0ddc9f-6bc2-44f6-b9fa-495d871c8de1"
      },
      "execution_count": 9,
      "outputs": [
        {
          "output_type": "stream",
          "name": "stdout",
          "text": [
            "도로 표지판: 속도제한 30 → 속도 30km/h로 조절\n",
            "도로 표지판: 정지 → 차량 정지\n",
            "도로 표지판: 우회전 → 우회전 수행\n",
            "도로 표지판: 속도제한 50 → 속도 50km/h로 조절\n"
          ]
        }
      ]
    }
  ]
}